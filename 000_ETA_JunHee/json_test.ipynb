{
 "cells": [
  {
   "cell_type": "code",
   "execution_count": 1,
   "metadata": {
    "collapsed": true
   },
   "outputs": [],
   "source": [
    "import json"
   ]
  },
  {
   "cell_type": "code",
   "execution_count": 2,
   "metadata": {
    "collapsed": true
   },
   "outputs": [],
   "source": [
    "with open('../data/filtered_month_7_AM_dict.json', 'r') as json_file:\n",
    "    filtered_month_7_AM_dict = json.load(json_file)"
   ]
  },
  {
   "cell_type": "code",
   "execution_count": 3,
   "metadata": {
    "collapsed": false
   },
   "outputs": [
    {
     "data": {
      "text/plain": [
       "u'129N04386_7_14_5_3'"
      ]
     },
     "execution_count": 3,
     "metadata": {},
     "output_type": "execute_result"
    }
   ],
   "source": [
    "filtered_month_7_AM_dict.keys()[1]"
   ]
  },
  {
   "cell_type": "code",
   "execution_count": 4,
   "metadata": {
    "collapsed": false
   },
   "outputs": [
    {
     "data": {
      "text/plain": [
       "u'64_0.27'"
      ]
     },
     "execution_count": 4,
     "metadata": {},
     "output_type": "execute_result"
    }
   ],
   "source": [
    "filtered_month_7_AM_dict['129N04386_7_14_5_3']"
   ]
  },
  {
   "cell_type": "code",
   "execution_count": 5,
   "metadata": {
    "collapsed": false
   },
   "outputs": [
    {
     "data": {
      "text/plain": [
       "u'64_0.71'"
      ]
     },
     "execution_count": 5,
     "metadata": {},
     "output_type": "execute_result"
    }
   ],
   "source": [
    "filtered_month_7_AM_dict['129-04386_7_14_5_3']"
   ]
  },
  {
   "cell_type": "code",
   "execution_count": 6,
   "metadata": {
    "collapsed": true
   },
   "outputs": [],
   "source": [
    "with open('../temp_files/link_tmcset.json', 'r') as json_file:\n",
    "    link_tmcset = json.load(json_file)"
   ]
  },
  {
   "cell_type": "code",
   "execution_count": 7,
   "metadata": {
    "collapsed": false
   },
   "outputs": [
    {
     "data": {
      "text/plain": [
       "[u'link_22',\n",
       " u'link_23',\n",
       " u'link_20',\n",
       " u'link_21',\n",
       " u'link_13',\n",
       " u'link_12',\n",
       " u'link_11',\n",
       " u'link_10',\n",
       " u'link_17',\n",
       " u'link_16',\n",
       " u'link_15',\n",
       " u'link_14',\n",
       " u'link_19',\n",
       " u'link_18',\n",
       " u'link_9',\n",
       " u'link_8',\n",
       " u'link_3',\n",
       " u'link_2',\n",
       " u'link_1',\n",
       " u'link_0',\n",
       " u'link_7',\n",
       " u'link_6',\n",
       " u'link_5',\n",
       " u'link_4']"
      ]
     },
     "execution_count": 7,
     "metadata": {},
     "output_type": "execute_result"
    }
   ],
   "source": [
    "link_tmcset.keys()"
   ]
  },
  {
   "cell_type": "code",
   "execution_count": 8,
   "metadata": {
    "collapsed": false
   },
   "outputs": [
    {
     "data": {
      "text/plain": [
       "[u'129+04311',\n",
       " u'129+04312',\n",
       " u'129+04313',\n",
       " u'129+04314',\n",
       " u'129+04315',\n",
       " u'129+04316',\n",
       " u'129+04317',\n",
       " u'129+04318',\n",
       " u'129+04319',\n",
       " u'129+04321',\n",
       " u'129+04322',\n",
       " u'129+04323',\n",
       " u'129+04324',\n",
       " u'129+04325',\n",
       " u'129P04311',\n",
       " u'129P04312',\n",
       " u'129P04313',\n",
       " u'129P04314',\n",
       " u'129P04316',\n",
       " u'129P04317',\n",
       " u'129P04318',\n",
       " u'129P04319',\n",
       " u'129P04320',\n",
       " u'129P04321',\n",
       " u'129P04322',\n",
       " u'129P04323',\n",
       " u'129P04324']"
      ]
     },
     "execution_count": 8,
     "metadata": {},
     "output_type": "execute_result"
    }
   ],
   "source": [
    "link_tmcset['link_0']"
   ]
  }
 ],
 "metadata": {
  "kernelspec": {
   "display_name": "Python 2",
   "language": "python",
   "name": "python2"
  },
  "language_info": {
   "codemirror_mode": {
    "name": "ipython",
    "version": 2
   },
   "file_extension": ".py",
   "mimetype": "text/x-python",
   "name": "python",
   "nbconvert_exporter": "python",
   "pygments_lexer": "ipython2",
   "version": "2.7.13"
  }
 },
 "nbformat": 4,
 "nbformat_minor": 2
}
