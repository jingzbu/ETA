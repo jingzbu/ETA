{
 "cells": [
  {
   "cell_type": "code",
   "execution_count": 1,
   "metadata": {
    "collapsed": true
   },
   "outputs": [],
   "source": [
    "import json"
   ]
  },
  {
   "cell_type": "code",
   "execution_count": 2,
   "metadata": {
    "collapsed": true
   },
   "outputs": [],
   "source": [
    "with open('../data/filtered_month_7_AM_dict.json', 'r') as json_file:\n",
    "    filtered_month_7_AM_dict = json.load(json_file)"
   ]
  },
  {
   "cell_type": "code",
   "execution_count": 3,
   "metadata": {},
   "outputs": [
    {
     "data": {
      "text/plain": [
       "'129N04386_7_14_5_3'"
      ]
     },
     "execution_count": 3,
     "metadata": {},
     "output_type": "execute_result"
    }
   ],
   "source": [
    "list(filtered_month_7_AM_dict.keys())[1]"
   ]
  },
  {
   "cell_type": "code",
   "execution_count": 4,
   "metadata": {},
   "outputs": [
    {
     "data": {
      "text/plain": [
       "'64_0.27'"
      ]
     },
     "execution_count": 4,
     "metadata": {},
     "output_type": "execute_result"
    }
   ],
   "source": [
    "filtered_month_7_AM_dict['129N04386_7_14_5_3']"
   ]
  },
  {
   "cell_type": "code",
   "execution_count": 5,
   "metadata": {},
   "outputs": [
    {
     "data": {
      "text/plain": [
       "'64_0.71'"
      ]
     },
     "execution_count": 5,
     "metadata": {},
     "output_type": "execute_result"
    }
   ],
   "source": [
    "filtered_month_7_AM_dict['129-04386_7_14_5_3']"
   ]
  },
  {
   "cell_type": "code",
   "execution_count": 6,
   "metadata": {
    "collapsed": true
   },
   "outputs": [],
   "source": [
    "with open('../temp_files/link_tmcset.json', 'r') as json_file:\n",
    "    link_tmcset = json.load(json_file)"
   ]
  },
  {
   "cell_type": "code",
   "execution_count": 7,
   "metadata": {},
   "outputs": [
    {
     "data": {
      "text/plain": [
       "dict_keys(['link_22', 'link_23', 'link_20', 'link_21', 'link_13', 'link_12', 'link_11', 'link_10', 'link_17', 'link_16', 'link_15', 'link_14', 'link_19', 'link_18', 'link_9', 'link_8', 'link_3', 'link_2', 'link_1', 'link_0', 'link_7', 'link_6', 'link_5', 'link_4'])"
      ]
     },
     "execution_count": 7,
     "metadata": {},
     "output_type": "execute_result"
    }
   ],
   "source": [
    "link_tmcset.keys()"
   ]
  },
  {
   "cell_type": "code",
   "execution_count": 8,
   "metadata": {},
   "outputs": [
    {
     "data": {
      "text/plain": [
       "['129+04311',\n",
       " '129+04312',\n",
       " '129+04313',\n",
       " '129+04314',\n",
       " '129+04315',\n",
       " '129+04316',\n",
       " '129+04317',\n",
       " '129+04318',\n",
       " '129+04319',\n",
       " '129+04321',\n",
       " '129+04322',\n",
       " '129+04323',\n",
       " '129+04324',\n",
       " '129+04325',\n",
       " '129P04311',\n",
       " '129P04312',\n",
       " '129P04313',\n",
       " '129P04314',\n",
       " '129P04316',\n",
       " '129P04317',\n",
       " '129P04318',\n",
       " '129P04319',\n",
       " '129P04320',\n",
       " '129P04321',\n",
       " '129P04322',\n",
       " '129P04323',\n",
       " '129P04324']"
      ]
     },
     "execution_count": 8,
     "metadata": {},
     "output_type": "execute_result"
    }
   ],
   "source": [
    "link_tmcset['link_0']"
   ]
  },
  {
   "cell_type": "code",
   "execution_count": null,
   "metadata": {
    "collapsed": true
   },
   "outputs": [],
   "source": []
  }
 ],
 "metadata": {
  "kernelspec": {
   "display_name": "Python 3",
   "language": "python",
   "name": "python3"
  },
  "language_info": {
   "codemirror_mode": {
    "name": "ipython",
    "version": 3
   },
   "file_extension": ".py",
   "mimetype": "text/x-python",
   "name": "python",
   "nbconvert_exporter": "python",
   "pygments_lexer": "ipython3",
   "version": "3.6.1"
  }
 },
 "nbformat": 4,
 "nbformat_minor": 2
}
